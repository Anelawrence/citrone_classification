{
 "cells": [
  {
   "cell_type": "code",
   "execution_count": 70,
   "id": "ce9b2233",
   "metadata": {},
   "outputs": [],
   "source": [
    "import pandas as pd\n",
    "import numpy as np \n",
    "import seaborn as sb\n",
    "import matplotlib.pyplot as plt\n",
    "from sklearn.preprocessing import OneHotEncoder\n",
    "from sklearn.preprocessing import StandardScaler"
   ]
  },
  {
   "cell_type": "code",
   "execution_count": 71,
   "id": "671184d7",
   "metadata": {},
   "outputs": [
    {
     "data": {
      "text/html": [
       "<div>\n",
       "<style scoped>\n",
       "    .dataframe tbody tr th:only-of-type {\n",
       "        vertical-align: middle;\n",
       "    }\n",
       "\n",
       "    .dataframe tbody tr th {\n",
       "        vertical-align: top;\n",
       "    }\n",
       "\n",
       "    .dataframe thead th {\n",
       "        text-align: right;\n",
       "    }\n",
       "</style>\n",
       "<table border=\"1\" class=\"dataframe\">\n",
       "  <thead>\n",
       "    <tr style=\"text-align: right;\">\n",
       "      <th></th>\n",
       "      <th>S/N</th>\n",
       "      <th>Name</th>\n",
       "      <th>Lesson Summary</th>\n",
       "      <th>Quiz Summary</th>\n",
       "      <th>Assignment Summary</th>\n",
       "      <th>Grade Point Average</th>\n",
       "      <th>Intermediate class Eligibility</th>\n",
       "    </tr>\n",
       "  </thead>\n",
       "  <tbody>\n",
       "    <tr>\n",
       "      <th>0</th>\n",
       "      <td>1</td>\n",
       "      <td>id_1</td>\n",
       "      <td>0/5</td>\n",
       "      <td>NaN</td>\n",
       "      <td>0</td>\n",
       "      <td>0.0</td>\n",
       "      <td>No</td>\n",
       "    </tr>\n",
       "    <tr>\n",
       "      <th>1</th>\n",
       "      <td>2</td>\n",
       "      <td>id_2</td>\n",
       "      <td>5-May</td>\n",
       "      <td>NaN</td>\n",
       "      <td>70</td>\n",
       "      <td>56.0</td>\n",
       "      <td>Yes</td>\n",
       "    </tr>\n",
       "    <tr>\n",
       "      <th>2</th>\n",
       "      <td>3</td>\n",
       "      <td>id_3</td>\n",
       "      <td>5-Feb</td>\n",
       "      <td>NaN</td>\n",
       "      <td>80</td>\n",
       "      <td>64.0</td>\n",
       "      <td>Yes</td>\n",
       "    </tr>\n",
       "    <tr>\n",
       "      <th>3</th>\n",
       "      <td>4</td>\n",
       "      <td>id_4</td>\n",
       "      <td>5-May</td>\n",
       "      <td>NaN</td>\n",
       "      <td>100</td>\n",
       "      <td>80.0</td>\n",
       "      <td>Yes</td>\n",
       "    </tr>\n",
       "    <tr>\n",
       "      <th>4</th>\n",
       "      <td>5</td>\n",
       "      <td>id_5</td>\n",
       "      <td>5-Jun</td>\n",
       "      <td>NaN</td>\n",
       "      <td>80</td>\n",
       "      <td>64.0</td>\n",
       "      <td>Yes</td>\n",
       "    </tr>\n",
       "  </tbody>\n",
       "</table>\n",
       "</div>"
      ],
      "text/plain": [
       "   S/N  Name Lesson Summary  Quiz Summary  Assignment Summary  \\\n",
       "0    1  id_1            0/5           NaN                   0   \n",
       "1    2  id_2          5-May           NaN                  70   \n",
       "2    3  id_3          5-Feb           NaN                  80   \n",
       "3    4  id_4          5-May           NaN                 100   \n",
       "4    5  id_5          5-Jun           NaN                  80   \n",
       "\n",
       "   Grade Point Average Intermediate class Eligibility  \n",
       "0                  0.0                             No  \n",
       "1                 56.0                            Yes  \n",
       "2                 64.0                            Yes  \n",
       "3                 80.0                            Yes  \n",
       "4                 64.0                            Yes  "
      ]
     },
     "execution_count": 71,
     "metadata": {},
     "output_type": "execute_result"
    }
   ],
   "source": [
    "#load the orginal data set\n",
    "original_df = pd.read_csv(\"Citrone_Performance_overview_id.csv\")\n",
    "original_df.head()"
   ]
  },
  {
   "cell_type": "code",
   "execution_count": 72,
   "id": "4a7fd93a",
   "metadata": {},
   "outputs": [],
   "source": [
    "original_df['Intermediate class Eligibility'] = original_df['Intermediate class Eligibility'].map({'Yes': 1, 'No': 0})"
   ]
  },
  {
   "cell_type": "code",
   "execution_count": 73,
   "id": "a345eddc",
   "metadata": {},
   "outputs": [
    {
     "data": {
      "text/html": [
       "<div>\n",
       "<style scoped>\n",
       "    .dataframe tbody tr th:only-of-type {\n",
       "        vertical-align: middle;\n",
       "    }\n",
       "\n",
       "    .dataframe tbody tr th {\n",
       "        vertical-align: top;\n",
       "    }\n",
       "\n",
       "    .dataframe thead th {\n",
       "        text-align: right;\n",
       "    }\n",
       "</style>\n",
       "<table border=\"1\" class=\"dataframe\">\n",
       "  <thead>\n",
       "    <tr style=\"text-align: right;\">\n",
       "      <th></th>\n",
       "      <th>S/N</th>\n",
       "      <th>Quiz Summary</th>\n",
       "      <th>Assignment Summary</th>\n",
       "      <th>Grade Point Average</th>\n",
       "      <th>Intermediate class Eligibility</th>\n",
       "    </tr>\n",
       "  </thead>\n",
       "  <tbody>\n",
       "    <tr>\n",
       "      <th>S/N</th>\n",
       "      <td>1.000000</td>\n",
       "      <td>NaN</td>\n",
       "      <td>-0.483111</td>\n",
       "      <td>-0.483111</td>\n",
       "      <td>-0.512423</td>\n",
       "    </tr>\n",
       "    <tr>\n",
       "      <th>Quiz Summary</th>\n",
       "      <td>NaN</td>\n",
       "      <td>NaN</td>\n",
       "      <td>NaN</td>\n",
       "      <td>NaN</td>\n",
       "      <td>NaN</td>\n",
       "    </tr>\n",
       "    <tr>\n",
       "      <th>Assignment Summary</th>\n",
       "      <td>-0.483111</td>\n",
       "      <td>NaN</td>\n",
       "      <td>1.000000</td>\n",
       "      <td>1.000000</td>\n",
       "      <td>0.984561</td>\n",
       "    </tr>\n",
       "    <tr>\n",
       "      <th>Grade Point Average</th>\n",
       "      <td>-0.483111</td>\n",
       "      <td>NaN</td>\n",
       "      <td>1.000000</td>\n",
       "      <td>1.000000</td>\n",
       "      <td>0.984561</td>\n",
       "    </tr>\n",
       "    <tr>\n",
       "      <th>Intermediate class Eligibility</th>\n",
       "      <td>-0.512423</td>\n",
       "      <td>NaN</td>\n",
       "      <td>0.984561</td>\n",
       "      <td>0.984561</td>\n",
       "      <td>1.000000</td>\n",
       "    </tr>\n",
       "  </tbody>\n",
       "</table>\n",
       "</div>"
      ],
      "text/plain": [
       "                                     S/N  Quiz Summary  Assignment Summary  \\\n",
       "S/N                             1.000000           NaN           -0.483111   \n",
       "Quiz Summary                         NaN           NaN                 NaN   \n",
       "Assignment Summary             -0.483111           NaN            1.000000   \n",
       "Grade Point Average            -0.483111           NaN            1.000000   \n",
       "Intermediate class Eligibility -0.512423           NaN            0.984561   \n",
       "\n",
       "                                Grade Point Average  \\\n",
       "S/N                                       -0.483111   \n",
       "Quiz Summary                                    NaN   \n",
       "Assignment Summary                         1.000000   \n",
       "Grade Point Average                        1.000000   \n",
       "Intermediate class Eligibility             0.984561   \n",
       "\n",
       "                                Intermediate class Eligibility  \n",
       "S/N                                                  -0.512423  \n",
       "Quiz Summary                                               NaN  \n",
       "Assignment Summary                                    0.984561  \n",
       "Grade Point Average                                   0.984561  \n",
       "Intermediate class Eligibility                        1.000000  "
      ]
     },
     "execution_count": 73,
     "metadata": {},
     "output_type": "execute_result"
    }
   ],
   "source": [
    "# correlation heatmap of the data set\n",
    "original_df.corr()"
   ]
  },
  {
   "cell_type": "raw",
   "id": "bf653378",
   "metadata": {},
   "source": [
    "There is a very strong positive correlation between Intermediate_class_Eligibility, Grade_Point_Average & Assignment_Summary"
   ]
  },
  {
   "cell_type": "code",
   "execution_count": 205,
   "id": "2afb461a",
   "metadata": {},
   "outputs": [],
   "source": [
    "# Load a mock data set with 1060 rows\n",
    "df = pd.read_csv(\"CITRONE_MOCK_DATA.csv\")"
   ]
  },
  {
   "cell_type": "code",
   "execution_count": 206,
   "id": "ef6cf444",
   "metadata": {},
   "outputs": [
    {
     "data": {
      "text/html": [
       "<div>\n",
       "<style scoped>\n",
       "    .dataframe tbody tr th:only-of-type {\n",
       "        vertical-align: middle;\n",
       "    }\n",
       "\n",
       "    .dataframe tbody tr th {\n",
       "        vertical-align: top;\n",
       "    }\n",
       "\n",
       "    .dataframe thead th {\n",
       "        text-align: right;\n",
       "    }\n",
       "</style>\n",
       "<table border=\"1\" class=\"dataframe\">\n",
       "  <thead>\n",
       "    <tr style=\"text-align: right;\">\n",
       "      <th></th>\n",
       "      <th>Lesson_Summary</th>\n",
       "      <th>Quiz Summary</th>\n",
       "      <th>Assignment Summary</th>\n",
       "      <th>Grade Point Average</th>\n",
       "      <th>Intermediate class Eligibility</th>\n",
       "    </tr>\n",
       "  </thead>\n",
       "  <tbody>\n",
       "    <tr>\n",
       "      <th>0</th>\n",
       "      <td>0.0</td>\n",
       "      <td>False</td>\n",
       "      <td>24</td>\n",
       "      <td>73.1</td>\n",
       "      <td>TRUE</td>\n",
       "    </tr>\n",
       "    <tr>\n",
       "      <th>1</th>\n",
       "      <td>1.0</td>\n",
       "      <td>False</td>\n",
       "      <td>65</td>\n",
       "      <td>78.5</td>\n",
       "      <td>FALSE</td>\n",
       "    </tr>\n",
       "    <tr>\n",
       "      <th>2</th>\n",
       "      <td>0.4</td>\n",
       "      <td>False</td>\n",
       "      <td>71</td>\n",
       "      <td>32.7</td>\n",
       "      <td>FALSE</td>\n",
       "    </tr>\n",
       "    <tr>\n",
       "      <th>3</th>\n",
       "      <td>1.0</td>\n",
       "      <td>True</td>\n",
       "      <td>7</td>\n",
       "      <td>52.2</td>\n",
       "      <td>FALSE</td>\n",
       "    </tr>\n",
       "    <tr>\n",
       "      <th>4</th>\n",
       "      <td>1.2</td>\n",
       "      <td>False</td>\n",
       "      <td>51</td>\n",
       "      <td>38.5</td>\n",
       "      <td>FALSE</td>\n",
       "    </tr>\n",
       "  </tbody>\n",
       "</table>\n",
       "</div>"
      ],
      "text/plain": [
       "   Lesson_Summary Quiz Summary  Assignment Summary  Grade Point Average  \\\n",
       "0             0.0        False                  24                 73.1   \n",
       "1             1.0        False                  65                 78.5   \n",
       "2             0.4        False                  71                 32.7   \n",
       "3             1.0         True                   7                 52.2   \n",
       "4             1.2        False                  51                 38.5   \n",
       "\n",
       "  Intermediate class Eligibility  \n",
       "0                           TRUE  \n",
       "1                          FALSE  \n",
       "2                          FALSE  \n",
       "3                          FALSE  \n",
       "4                          FALSE  "
      ]
     },
     "execution_count": 206,
     "metadata": {},
     "output_type": "execute_result"
    }
   ],
   "source": [
    "df.head()"
   ]
  },
  {
   "cell_type": "code",
   "execution_count": 207,
   "id": "4bf1499c",
   "metadata": {},
   "outputs": [
    {
     "data": {
      "text/plain": [
       "Index(['Lesson_Summary', 'Quiz_Summary', 'Assignment_Summary',\n",
       "       'Grade_Point_Average', 'Intermediate_class_Eligibility'],\n",
       "      dtype='object')"
      ]
     },
     "execution_count": 207,
     "metadata": {},
     "output_type": "execute_result"
    }
   ],
   "source": [
    "#modify the columns\n",
    "df.columns = df.columns.str.replace(\" \", \"_\")\n",
    "df.columns"
   ]
  },
  {
   "cell_type": "code",
   "execution_count": 208,
   "id": "ef2f70b5",
   "metadata": {},
   "outputs": [
    {
     "data": {
      "text/html": [
       "<div>\n",
       "<style scoped>\n",
       "    .dataframe tbody tr th:only-of-type {\n",
       "        vertical-align: middle;\n",
       "    }\n",
       "\n",
       "    .dataframe tbody tr th {\n",
       "        vertical-align: top;\n",
       "    }\n",
       "\n",
       "    .dataframe thead th {\n",
       "        text-align: right;\n",
       "    }\n",
       "</style>\n",
       "<table border=\"1\" class=\"dataframe\">\n",
       "  <thead>\n",
       "    <tr style=\"text-align: right;\">\n",
       "      <th></th>\n",
       "      <th>Lesson_Summary</th>\n",
       "      <th>Assignment_Summary</th>\n",
       "      <th>Grade_Point_Average</th>\n",
       "      <th>Intermediate_class_Eligibility</th>\n",
       "    </tr>\n",
       "  </thead>\n",
       "  <tbody>\n",
       "    <tr>\n",
       "      <th>0</th>\n",
       "      <td>0.0</td>\n",
       "      <td>24</td>\n",
       "      <td>73.1</td>\n",
       "      <td>TRUE</td>\n",
       "    </tr>\n",
       "    <tr>\n",
       "      <th>1</th>\n",
       "      <td>1.0</td>\n",
       "      <td>65</td>\n",
       "      <td>78.5</td>\n",
       "      <td>FALSE</td>\n",
       "    </tr>\n",
       "    <tr>\n",
       "      <th>2</th>\n",
       "      <td>0.4</td>\n",
       "      <td>71</td>\n",
       "      <td>32.7</td>\n",
       "      <td>FALSE</td>\n",
       "    </tr>\n",
       "    <tr>\n",
       "      <th>3</th>\n",
       "      <td>1.0</td>\n",
       "      <td>7</td>\n",
       "      <td>52.2</td>\n",
       "      <td>FALSE</td>\n",
       "    </tr>\n",
       "    <tr>\n",
       "      <th>4</th>\n",
       "      <td>1.2</td>\n",
       "      <td>51</td>\n",
       "      <td>38.5</td>\n",
       "      <td>FALSE</td>\n",
       "    </tr>\n",
       "  </tbody>\n",
       "</table>\n",
       "</div>"
      ],
      "text/plain": [
       "   Lesson_Summary  Assignment_Summary  Grade_Point_Average  \\\n",
       "0             0.0                  24                 73.1   \n",
       "1             1.0                  65                 78.5   \n",
       "2             0.4                  71                 32.7   \n",
       "3             1.0                   7                 52.2   \n",
       "4             1.2                  51                 38.5   \n",
       "\n",
       "  Intermediate_class_Eligibility  \n",
       "0                           TRUE  \n",
       "1                          FALSE  \n",
       "2                          FALSE  \n",
       "3                          FALSE  \n",
       "4                          FALSE  "
      ]
     },
     "execution_count": 208,
     "metadata": {},
     "output_type": "execute_result"
    }
   ],
   "source": [
    "# Remove two columns name 'Lesson_Summary', 'Quiz_Summary'\n",
    "df.drop(['Quiz_Summary'], axis=1, inplace=True)\n",
    "df.head()"
   ]
  },
  {
   "cell_type": "code",
   "execution_count": 209,
   "id": "e7f2ddbe",
   "metadata": {},
   "outputs": [
    {
     "data": {
      "text/plain": [
       "FALSE    516\n",
       "TRUE     484\n",
       "Yes       42\n",
       "No        18\n",
       "Name: Intermediate_class_Eligibility, dtype: int64"
      ]
     },
     "execution_count": 209,
     "metadata": {},
     "output_type": "execute_result"
    }
   ],
   "source": [
    "df.Intermediate_class_Eligibility.value_counts()"
   ]
  },
  {
   "cell_type": "code",
   "execution_count": 210,
   "id": "82d44c91",
   "metadata": {},
   "outputs": [
    {
     "data": {
      "text/plain": [
       "Lesson_Summary                    0\n",
       "Assignment_Summary                0\n",
       "Grade_Point_Average               0\n",
       "Intermediate_class_Eligibility    0\n",
       "dtype: int64"
      ]
     },
     "execution_count": 210,
     "metadata": {},
     "output_type": "execute_result"
    }
   ],
   "source": [
    "#check for null values in the data\n",
    "df.isnull().sum()"
   ]
  },
  {
   "cell_type": "markdown",
   "id": "138501cc",
   "metadata": {},
   "source": [
    "### EDA"
   ]
  },
  {
   "cell_type": "code",
   "execution_count": 211,
   "id": "1e21e08d",
   "metadata": {},
   "outputs": [],
   "source": [
    "#change (Yes/No and TRUE/FALSE) to 1/0\n",
    "df['Intermediate_class_Eligibility'] = df['Intermediate_class_Eligibility'].map({'Yes': 1, 'No': 0, 'TRUE': 1, 'FALSE': 0})"
   ]
  },
  {
   "cell_type": "code",
   "execution_count": 212,
   "id": "438fd09e",
   "metadata": {},
   "outputs": [
    {
     "data": {
      "text/html": [
       "<div>\n",
       "<style scoped>\n",
       "    .dataframe tbody tr th:only-of-type {\n",
       "        vertical-align: middle;\n",
       "    }\n",
       "\n",
       "    .dataframe tbody tr th {\n",
       "        vertical-align: top;\n",
       "    }\n",
       "\n",
       "    .dataframe thead th {\n",
       "        text-align: right;\n",
       "    }\n",
       "</style>\n",
       "<table border=\"1\" class=\"dataframe\">\n",
       "  <thead>\n",
       "    <tr style=\"text-align: right;\">\n",
       "      <th></th>\n",
       "      <th>Lesson_Summary</th>\n",
       "      <th>Assignment_Summary</th>\n",
       "      <th>Grade_Point_Average</th>\n",
       "      <th>Intermediate_class_Eligibility</th>\n",
       "    </tr>\n",
       "  </thead>\n",
       "  <tbody>\n",
       "    <tr>\n",
       "      <th>0</th>\n",
       "      <td>0.0</td>\n",
       "      <td>24</td>\n",
       "      <td>73.1</td>\n",
       "      <td>1</td>\n",
       "    </tr>\n",
       "    <tr>\n",
       "      <th>1</th>\n",
       "      <td>1.0</td>\n",
       "      <td>65</td>\n",
       "      <td>78.5</td>\n",
       "      <td>0</td>\n",
       "    </tr>\n",
       "    <tr>\n",
       "      <th>2</th>\n",
       "      <td>0.4</td>\n",
       "      <td>71</td>\n",
       "      <td>32.7</td>\n",
       "      <td>0</td>\n",
       "    </tr>\n",
       "    <tr>\n",
       "      <th>3</th>\n",
       "      <td>1.0</td>\n",
       "      <td>7</td>\n",
       "      <td>52.2</td>\n",
       "      <td>0</td>\n",
       "    </tr>\n",
       "    <tr>\n",
       "      <th>4</th>\n",
       "      <td>1.2</td>\n",
       "      <td>51</td>\n",
       "      <td>38.5</td>\n",
       "      <td>0</td>\n",
       "    </tr>\n",
       "  </tbody>\n",
       "</table>\n",
       "</div>"
      ],
      "text/plain": [
       "   Lesson_Summary  Assignment_Summary  Grade_Point_Average  \\\n",
       "0             0.0                  24                 73.1   \n",
       "1             1.0                  65                 78.5   \n",
       "2             0.4                  71                 32.7   \n",
       "3             1.0                   7                 52.2   \n",
       "4             1.2                  51                 38.5   \n",
       "\n",
       "   Intermediate_class_Eligibility  \n",
       "0                               1  \n",
       "1                               0  \n",
       "2                               0  \n",
       "3                               0  \n",
       "4                               0  "
      ]
     },
     "execution_count": 212,
     "metadata": {},
     "output_type": "execute_result"
    }
   ],
   "source": [
    "df.head()"
   ]
  },
  {
   "cell_type": "code",
   "execution_count": 213,
   "id": "9869c5b2",
   "metadata": {},
   "outputs": [
    {
     "data": {
      "text/html": [
       "<div>\n",
       "<style scoped>\n",
       "    .dataframe tbody tr th:only-of-type {\n",
       "        vertical-align: middle;\n",
       "    }\n",
       "\n",
       "    .dataframe tbody tr th {\n",
       "        vertical-align: top;\n",
       "    }\n",
       "\n",
       "    .dataframe thead th {\n",
       "        text-align: right;\n",
       "    }\n",
       "</style>\n",
       "<table border=\"1\" class=\"dataframe\">\n",
       "  <thead>\n",
       "    <tr style=\"text-align: right;\">\n",
       "      <th></th>\n",
       "      <th>Lesson_Summary</th>\n",
       "      <th>Assignment_Summary</th>\n",
       "      <th>Grade_Point_Average</th>\n",
       "      <th>Intermediate_class_Eligibility</th>\n",
       "    </tr>\n",
       "  </thead>\n",
       "  <tbody>\n",
       "    <tr>\n",
       "      <th>Lesson_Summary</th>\n",
       "      <td>1.000000</td>\n",
       "      <td>-0.044553</td>\n",
       "      <td>0.013739</td>\n",
       "      <td>0.019301</td>\n",
       "    </tr>\n",
       "    <tr>\n",
       "      <th>Assignment_Summary</th>\n",
       "      <td>-0.044553</td>\n",
       "      <td>1.000000</td>\n",
       "      <td>0.115859</td>\n",
       "      <td>0.033397</td>\n",
       "    </tr>\n",
       "    <tr>\n",
       "      <th>Grade_Point_Average</th>\n",
       "      <td>0.013739</td>\n",
       "      <td>0.115859</td>\n",
       "      <td>1.000000</td>\n",
       "      <td>0.122992</td>\n",
       "    </tr>\n",
       "    <tr>\n",
       "      <th>Intermediate_class_Eligibility</th>\n",
       "      <td>0.019301</td>\n",
       "      <td>0.033397</td>\n",
       "      <td>0.122992</td>\n",
       "      <td>1.000000</td>\n",
       "    </tr>\n",
       "  </tbody>\n",
       "</table>\n",
       "</div>"
      ],
      "text/plain": [
       "                                Lesson_Summary  Assignment_Summary  \\\n",
       "Lesson_Summary                        1.000000           -0.044553   \n",
       "Assignment_Summary                   -0.044553            1.000000   \n",
       "Grade_Point_Average                   0.013739            0.115859   \n",
       "Intermediate_class_Eligibility        0.019301            0.033397   \n",
       "\n",
       "                                Grade_Point_Average  \\\n",
       "Lesson_Summary                             0.013739   \n",
       "Assignment_Summary                         0.115859   \n",
       "Grade_Point_Average                        1.000000   \n",
       "Intermediate_class_Eligibility             0.122992   \n",
       "\n",
       "                                Intermediate_class_Eligibility  \n",
       "Lesson_Summary                                        0.019301  \n",
       "Assignment_Summary                                    0.033397  \n",
       "Grade_Point_Average                                   0.122992  \n",
       "Intermediate_class_Eligibility                        1.000000  "
      ]
     },
     "execution_count": 213,
     "metadata": {},
     "output_type": "execute_result"
    }
   ],
   "source": [
    "df.corr()"
   ]
  },
  {
   "cell_type": "markdown",
   "id": "7503dc30",
   "metadata": {},
   "source": [
    "There is a very weak correlation between Intermediate_class_Eligibility and Grade_Point_Average & Assignment_Summary"
   ]
  },
  {
   "cell_type": "code",
   "execution_count": 214,
   "id": "33174d0a",
   "metadata": {},
   "outputs": [],
   "source": [
    "#Now, we define a function to adjust the mock data to mimick the original data \n",
    "#And ensure no biaseness between eligibilty status and grade point\n",
    "\n",
    "def adjust_grade(col):\n",
    "    if col >= 50:\n",
    "        return 1\n",
    "    else:\n",
    "        return 0"
   ]
  },
  {
   "cell_type": "code",
   "execution_count": 215,
   "id": "d1e2ee0e",
   "metadata": {},
   "outputs": [],
   "source": [
    "# Adjusting Intermediate_class_Eligibility to conform with Grade_Point_Average\n",
    "df['Intermediate_class_Eligibility'] = df['Grade_Point_Average'].apply(adjust_grade)"
   ]
  },
  {
   "cell_type": "code",
   "execution_count": 217,
   "id": "1bbe7355",
   "metadata": {},
   "outputs": [
    {
     "data": {
      "text/html": [
       "<div>\n",
       "<style scoped>\n",
       "    .dataframe tbody tr th:only-of-type {\n",
       "        vertical-align: middle;\n",
       "    }\n",
       "\n",
       "    .dataframe tbody tr th {\n",
       "        vertical-align: top;\n",
       "    }\n",
       "\n",
       "    .dataframe thead th {\n",
       "        text-align: right;\n",
       "    }\n",
       "</style>\n",
       "<table border=\"1\" class=\"dataframe\">\n",
       "  <thead>\n",
       "    <tr style=\"text-align: right;\">\n",
       "      <th></th>\n",
       "      <th>Lesson_Summary</th>\n",
       "      <th>Assignment_Summary</th>\n",
       "      <th>Grade_Point_Average</th>\n",
       "      <th>Intermediate_class_Eligibility</th>\n",
       "    </tr>\n",
       "  </thead>\n",
       "  <tbody>\n",
       "    <tr>\n",
       "      <th>0</th>\n",
       "      <td>0.0</td>\n",
       "      <td>24</td>\n",
       "      <td>73.1</td>\n",
       "      <td>1</td>\n",
       "    </tr>\n",
       "    <tr>\n",
       "      <th>1</th>\n",
       "      <td>1.0</td>\n",
       "      <td>65</td>\n",
       "      <td>78.5</td>\n",
       "      <td>1</td>\n",
       "    </tr>\n",
       "    <tr>\n",
       "      <th>2</th>\n",
       "      <td>0.4</td>\n",
       "      <td>71</td>\n",
       "      <td>32.7</td>\n",
       "      <td>0</td>\n",
       "    </tr>\n",
       "    <tr>\n",
       "      <th>3</th>\n",
       "      <td>1.0</td>\n",
       "      <td>7</td>\n",
       "      <td>52.2</td>\n",
       "      <td>1</td>\n",
       "    </tr>\n",
       "    <tr>\n",
       "      <th>4</th>\n",
       "      <td>1.2</td>\n",
       "      <td>51</td>\n",
       "      <td>38.5</td>\n",
       "      <td>0</td>\n",
       "    </tr>\n",
       "  </tbody>\n",
       "</table>\n",
       "</div>"
      ],
      "text/plain": [
       "   Lesson_Summary  Assignment_Summary  Grade_Point_Average  \\\n",
       "0             0.0                  24                 73.1   \n",
       "1             1.0                  65                 78.5   \n",
       "2             0.4                  71                 32.7   \n",
       "3             1.0                   7                 52.2   \n",
       "4             1.2                  51                 38.5   \n",
       "\n",
       "   Intermediate_class_Eligibility  \n",
       "0                               1  \n",
       "1                               1  \n",
       "2                               0  \n",
       "3                               1  \n",
       "4                               0  "
      ]
     },
     "execution_count": 217,
     "metadata": {},
     "output_type": "execute_result"
    }
   ],
   "source": [
    "df.head()"
   ]
  },
  {
   "cell_type": "code",
   "execution_count": 218,
   "id": "4a861c36",
   "metadata": {},
   "outputs": [
    {
     "data": {
      "text/html": [
       "<div>\n",
       "<style scoped>\n",
       "    .dataframe tbody tr th:only-of-type {\n",
       "        vertical-align: middle;\n",
       "    }\n",
       "\n",
       "    .dataframe tbody tr th {\n",
       "        vertical-align: top;\n",
       "    }\n",
       "\n",
       "    .dataframe thead th {\n",
       "        text-align: right;\n",
       "    }\n",
       "</style>\n",
       "<table border=\"1\" class=\"dataframe\">\n",
       "  <thead>\n",
       "    <tr style=\"text-align: right;\">\n",
       "      <th></th>\n",
       "      <th>Lesson_Summary</th>\n",
       "      <th>Assignment_Summary</th>\n",
       "      <th>Grade_Point_Average</th>\n",
       "      <th>Intermediate_class_Eligibility</th>\n",
       "    </tr>\n",
       "  </thead>\n",
       "  <tbody>\n",
       "    <tr>\n",
       "      <th>0</th>\n",
       "      <td>0.0</td>\n",
       "      <td>24</td>\n",
       "      <td>73.1</td>\n",
       "      <td>1</td>\n",
       "    </tr>\n",
       "    <tr>\n",
       "      <th>1</th>\n",
       "      <td>5.0</td>\n",
       "      <td>65</td>\n",
       "      <td>78.5</td>\n",
       "      <td>1</td>\n",
       "    </tr>\n",
       "    <tr>\n",
       "      <th>2</th>\n",
       "      <td>2.0</td>\n",
       "      <td>71</td>\n",
       "      <td>32.7</td>\n",
       "      <td>0</td>\n",
       "    </tr>\n",
       "    <tr>\n",
       "      <th>3</th>\n",
       "      <td>5.0</td>\n",
       "      <td>7</td>\n",
       "      <td>52.2</td>\n",
       "      <td>1</td>\n",
       "    </tr>\n",
       "    <tr>\n",
       "      <th>4</th>\n",
       "      <td>6.0</td>\n",
       "      <td>51</td>\n",
       "      <td>38.5</td>\n",
       "      <td>0</td>\n",
       "    </tr>\n",
       "  </tbody>\n",
       "</table>\n",
       "</div>"
      ],
      "text/plain": [
       "   Lesson_Summary  Assignment_Summary  Grade_Point_Average  \\\n",
       "0             0.0                  24                 73.1   \n",
       "1             5.0                  65                 78.5   \n",
       "2             2.0                  71                 32.7   \n",
       "3             5.0                   7                 52.2   \n",
       "4             6.0                  51                 38.5   \n",
       "\n",
       "   Intermediate_class_Eligibility  \n",
       "0                               1  \n",
       "1                               1  \n",
       "2                               0  \n",
       "3                               1  \n",
       "4                               0  "
      ]
     },
     "execution_count": 218,
     "metadata": {},
     "output_type": "execute_result"
    }
   ],
   "source": [
    "df.Lesson_Summary = df.Lesson_Summary*5\n",
    "df.head()"
   ]
  },
  {
   "cell_type": "code",
   "execution_count": 219,
   "id": "a69ee2dc",
   "metadata": {},
   "outputs": [
    {
     "data": {
      "text/plain": [
       "1    547\n",
       "0    513\n",
       "Name: Intermediate_class_Eligibility, dtype: int64"
      ]
     },
     "execution_count": 219,
     "metadata": {},
     "output_type": "execute_result"
    }
   ],
   "source": [
    "df.Intermediate_class_Eligibility.value_counts()"
   ]
  },
  {
   "cell_type": "code",
   "execution_count": 220,
   "id": "5d3a78eb",
   "metadata": {},
   "outputs": [
    {
     "data": {
      "text/plain": [
       "<AxesSubplot:>"
      ]
     },
     "execution_count": 220,
     "metadata": {},
     "output_type": "execute_result"
    },
    {
     "data": {
      "image/png": "[encoded data removed]",
      "text/plain": [
       "<Figure size 432x288 with 2 Axes>"
      ]
     },
     "metadata": {
      "needs_background": "light"
     },
     "output_type": "display_data"
    }
   ],
   "source": [
    "# correlation heatmap of the data set\n",
    "sb.heatmap(df.corr() , cmap = \"coolwarm\", annot=True)"
   ]
  },
  {
   "cell_type": "code",
   "execution_count": 221,
   "id": "b312bf09",
   "metadata": {},
   "outputs": [
    {
     "data": {
      "text/plain": [
       "array([[<AxesSubplot:title={'center':'Lesson_Summary'}>,\n",
       "        <AxesSubplot:title={'center':'Assignment_Summary'}>],\n",
       "       [<AxesSubplot:title={'center':'Grade_Point_Average'}>,\n",
       "        <AxesSubplot:title={'center':'Intermediate_class_Eligibility'}>]],\n",
       "      dtype=object)"
      ]
     },
     "execution_count": 221,
     "metadata": {},
     "output_type": "execute_result"
    },
    {
     "data": {
      "image/png": "[encoded data removed]",
      "text/plain": [
       "<Figure size 720x720 with 4 Axes>"
      ]
     },
     "metadata": {
      "needs_background": "light"
     },
     "output_type": "display_data"
    }
   ],
   "source": [
    "# Checking for skewness in the data\n",
    "df.hist(figsize=(10,10))"
   ]
  },
  {
   "cell_type": "code",
   "execution_count": 222,
   "id": "3e8837ae",
   "metadata": {},
   "outputs": [],
   "source": [
    "numerical_cols = list(df.select_dtypes('number').columns)"
   ]
  },
  {
   "cell_type": "markdown",
   "id": "bba65c97",
   "metadata": {},
   "source": [
    "#### Remove target variable from the DataFrame"
   ]
  },
  {
   "cell_type": "code",
   "execution_count": 223,
   "id": "1eadfc5e",
   "metadata": {},
   "outputs": [],
   "source": [
    "eligibility_label = df[\"Intermediate_class_Eligibility\"]\n",
    "raw_df = df.copy()\n",
    "df.drop(\"Intermediate_class_Eligibility\" , axis = 1 , inplace = True)"
   ]
  },
  {
   "cell_type": "code",
   "execution_count": 224,
   "id": "cf691210",
   "metadata": {},
   "outputs": [],
   "source": [
    "numerical_cols.remove('Intermediate_class_Eligibility')"
   ]
  },
  {
   "cell_type": "markdown",
   "id": "9d0eb4a1",
   "metadata": {},
   "source": [
    "### Data Preprocessing"
   ]
  },
  {
   "cell_type": "code",
   "execution_count": 225,
   "id": "37428241",
   "metadata": {},
   "outputs": [],
   "source": [
    "from sklearn.preprocessing import StandardScaler\n",
    "scaler = StandardScaler()"
   ]
  },
  {
   "cell_type": "code",
   "execution_count": 226,
   "id": "10eb1832",
   "metadata": {},
   "outputs": [],
   "source": [
    " # Standardizing the numerical columns\n",
    "df[numerical_cols] = scaler.fit_transform(df[numerical_cols])"
   ]
  },
  {
   "cell_type": "code",
   "execution_count": 227,
   "id": "84092bf9",
   "metadata": {},
   "outputs": [
    {
     "data": {
      "text/html": [
       "<div>\n",
       "<style scoped>\n",
       "    .dataframe tbody tr th:only-of-type {\n",
       "        vertical-align: middle;\n",
       "    }\n",
       "\n",
       "    .dataframe tbody tr th {\n",
       "        vertical-align: top;\n",
       "    }\n",
       "\n",
       "    .dataframe thead th {\n",
       "        text-align: right;\n",
       "    }\n",
       "</style>\n",
       "<table border=\"1\" class=\"dataframe\">\n",
       "  <thead>\n",
       "    <tr style=\"text-align: right;\">\n",
       "      <th></th>\n",
       "      <th>Lesson_Summary</th>\n",
       "      <th>Assignment_Summary</th>\n",
       "      <th>Grade_Point_Average</th>\n",
       "    </tr>\n",
       "  </thead>\n",
       "  <tbody>\n",
       "    <tr>\n",
       "      <th>0</th>\n",
       "      <td>-1.536158</td>\n",
       "      <td>-0.895719</td>\n",
       "      <td>0.749950</td>\n",
       "    </tr>\n",
       "    <tr>\n",
       "      <th>1</th>\n",
       "      <td>0.613733</td>\n",
       "      <td>0.459805</td>\n",
       "      <td>0.937120</td>\n",
       "    </tr>\n",
       "    <tr>\n",
       "      <th>2</th>\n",
       "      <td>-0.676202</td>\n",
       "      <td>0.658174</td>\n",
       "      <td>-0.650355</td>\n",
       "    </tr>\n",
       "    <tr>\n",
       "      <th>3</th>\n",
       "      <td>0.613733</td>\n",
       "      <td>-1.457765</td>\n",
       "      <td>0.025535</td>\n",
       "    </tr>\n",
       "    <tr>\n",
       "      <th>4</th>\n",
       "      <td>1.043712</td>\n",
       "      <td>-0.003057</td>\n",
       "      <td>-0.449321</td>\n",
       "    </tr>\n",
       "  </tbody>\n",
       "</table>\n",
       "</div>"
      ],
      "text/plain": [
       "   Lesson_Summary  Assignment_Summary  Grade_Point_Average\n",
       "0       -1.536158           -0.895719             0.749950\n",
       "1        0.613733            0.459805             0.937120\n",
       "2       -0.676202            0.658174            -0.650355\n",
       "3        0.613733           -1.457765             0.025535\n",
       "4        1.043712           -0.003057            -0.449321"
      ]
     },
     "execution_count": 227,
     "metadata": {},
     "output_type": "execute_result"
    }
   ],
   "source": [
    "df.head()"
   ]
  },
  {
   "cell_type": "markdown",
   "id": "4bd35549",
   "metadata": {},
   "source": [
    "### Spliting Data into Training and Testing"
   ]
  },
  {
   "cell_type": "code",
   "execution_count": 228,
   "id": "5484ebbf",
   "metadata": {},
   "outputs": [],
   "source": [
    "from sklearn.model_selection import train_test_split, StratifiedShuffleSplit"
   ]
  },
  {
   "cell_type": "code",
   "execution_count": 229,
   "id": "dc005416",
   "metadata": {},
   "outputs": [],
   "source": [
    "X_train, X_test, y_train, y_test = train_test_split(df, eligibility_label, test_size=.2, random_state=True)"
   ]
  },
  {
   "cell_type": "code",
   "execution_count": 230,
   "id": "7ecb3303",
   "metadata": {},
   "outputs": [
    {
     "data": {
      "text/plain": [
       "(212, 3)"
      ]
     },
     "execution_count": 230,
     "metadata": {},
     "output_type": "execute_result"
    }
   ],
   "source": [
    "X_test.shape"
   ]
  },
  {
   "cell_type": "markdown",
   "id": "b30cb0cc",
   "metadata": {},
   "source": [
    "### Model training on the data set"
   ]
  },
  {
   "cell_type": "code",
   "execution_count": 231,
   "id": "32a84372",
   "metadata": {},
   "outputs": [],
   "source": [
    "#import models\n",
    "from sklearn.linear_model import LogisticRegression\n",
    "from sklearn.tree import DecisionTreeClassifier\n",
    "from sklearn.ensemble import RandomForestClassifier\n",
    "from sklearn.svm import SVC\n",
    "# import metric library\n",
    "from sklearn.metrics import f1_score\n",
    "from sklearn.metrics import fbeta_score\n",
    "from sklearn.metrics import accuracy_score\n",
    "from sklearn.metrics import precision_score"
   ]
  },
  {
   "cell_type": "code",
   "execution_count": 232,
   "id": "58deb092",
   "metadata": {},
   "outputs": [],
   "source": [
    "# creating an instance of each models\n",
    "model_1 = LogisticRegression()\n",
    "#model_1.fit(X_train, y_train)\n",
    "model_2 = DecisionTreeClassifier()\n",
    "model_3 = RandomForestClassifier()\n",
    "model_4 = SVC()"
   ]
  },
  {
   "cell_type": "code",
   "execution_count": 233,
   "id": "675358d0",
   "metadata": {},
   "outputs": [],
   "source": [
    "# Model evaluation function\n",
    "def eval(Model):\n",
    "    Model = Model.fit(X_train , y_train)\n",
    "    Model_predict_train = Model.predict(X_train)\n",
    "    Model_predict_test = Model.predict(X_test)\n",
    "    \n",
    "    accuracy_score_train = accuracy_score(Model_predict_train , y_train)\n",
    "    accuracy_score_test = accuracy_score(Model_predict_test , y_test)\n",
    "    \n",
    "    print (f\"The model has an accuracy score of {accuracy_score_train} on training and {accuracy_score_test} on testing.\")"
   ]
  },
  {
   "cell_type": "code",
   "execution_count": 234,
   "id": "454d069a",
   "metadata": {},
   "outputs": [
    {
     "name": "stdout",
     "output_type": "stream",
     "text": [
      "The model has an accuracy score of 0.9941037735849056 on training and 0.9952830188679245 on testing.\n"
     ]
    }
   ],
   "source": [
    "eval(model_1)"
   ]
  },
  {
   "cell_type": "code",
   "execution_count": 235,
   "id": "e406bda7",
   "metadata": {},
   "outputs": [
    {
     "name": "stdout",
     "output_type": "stream",
     "text": [
      "The model has an accuracy score of 1.0 on training and 1.0 on testing.\n"
     ]
    }
   ],
   "source": [
    "eval(model_2)"
   ]
  },
  {
   "cell_type": "code",
   "execution_count": 236,
   "id": "913b363f",
   "metadata": {},
   "outputs": [
    {
     "name": "stdout",
     "output_type": "stream",
     "text": [
      "The model has an accuracy score of 1.0 on training and 1.0 on testing.\n"
     ]
    }
   ],
   "source": [
    "eval(model_3)"
   ]
  },
  {
   "cell_type": "code",
   "execution_count": 237,
   "id": "45c12993",
   "metadata": {},
   "outputs": [
    {
     "name": "stdout",
     "output_type": "stream",
     "text": [
      "The model has an accuracy score of 0.9941037735849056 on training and 0.9764150943396226 on testing.\n"
     ]
    }
   ],
   "source": [
    "eval(model_4)"
   ]
  },
  {
   "cell_type": "markdown",
   "id": "fd689956",
   "metadata": {},
   "source": [
    "The models are all doing well. However, valuation still needs to be done."
   ]
  },
  {
   "cell_type": "code",
   "execution_count": 238,
   "id": "f3de6bc6",
   "metadata": {},
   "outputs": [],
   "source": [
    "from sklearn.model_selection import cross_val_score\n",
    "from sklearn.model_selection import cross_val_predict"
   ]
  },
  {
   "cell_type": "code",
   "execution_count": 239,
   "id": "e11ac58a",
   "metadata": {},
   "outputs": [
    {
     "data": {
      "text/plain": [
       "array([0.99293286, 0.98586572, 0.9964539 ])"
      ]
     },
     "execution_count": 239,
     "metadata": {},
     "output_type": "execute_result"
    }
   ],
   "source": [
    "cross_val_score(model_1 , X_train ,y_train ,  cv = 3, scoring=\"accuracy\")"
   ]
  },
  {
   "cell_type": "code",
   "execution_count": 240,
   "id": "957ea766",
   "metadata": {},
   "outputs": [
    {
     "data": {
      "text/plain": [
       "array([1.        , 0.99646643, 1.        ])"
      ]
     },
     "execution_count": 240,
     "metadata": {},
     "output_type": "execute_result"
    }
   ],
   "source": [
    "cross_val_score(model_2 , X_train ,y_train ,  cv = 3, scoring=\"accuracy\")"
   ]
  },
  {
   "cell_type": "code",
   "execution_count": 241,
   "id": "1c90cdeb",
   "metadata": {},
   "outputs": [
    {
     "data": {
      "text/plain": [
       "array([1.        , 0.99646643, 1.        ])"
      ]
     },
     "execution_count": 241,
     "metadata": {},
     "output_type": "execute_result"
    }
   ],
   "source": [
    "cross_val_score(model_3 , X_train ,y_train ,  cv = 3, scoring=\"accuracy\")"
   ]
  },
  {
   "cell_type": "code",
   "execution_count": 242,
   "id": "48d74d3b",
   "metadata": {},
   "outputs": [
    {
     "data": {
      "text/plain": [
       "array([0.98586572, 0.98939929, 0.9822695 ])"
      ]
     },
     "execution_count": 242,
     "metadata": {},
     "output_type": "execute_result"
    }
   ],
   "source": [
    "cross_val_score(model_4 , X_train ,y_train ,  cv = 3, scoring=\"accuracy\")"
   ]
  },
  {
   "cell_type": "markdown",
   "id": "f04ce196",
   "metadata": {},
   "source": [
    "The cross_val_score shows no form of baisness in the models"
   ]
  },
  {
   "cell_type": "code",
   "execution_count": 243,
   "id": "05495be3",
   "metadata": {},
   "outputs": [],
   "source": [
    "from sklearn.metrics import classification_report, confusion_matrix"
   ]
  },
  {
   "cell_type": "code",
   "execution_count": 244,
   "id": "d20fdb9d",
   "metadata": {},
   "outputs": [
    {
     "name": "stdout",
     "output_type": "stream",
     "text": [
      "              precision    recall  f1-score   support\n",
      "\n",
      "           0       0.99      1.00      1.00       109\n",
      "           1       1.00      0.99      1.00       103\n",
      "\n",
      "    accuracy                           1.00       212\n",
      "   macro avg       1.00      1.00      1.00       212\n",
      "weighted avg       1.00      1.00      1.00       212\n",
      "\n"
     ]
    }
   ],
   "source": [
    "y_predict = model_1.predict(X_test)\n",
    "print(classification_report(y_test, y_predict)) #print classification report"
   ]
  },
  {
   "cell_type": "markdown",
   "id": "664d1b0e",
   "metadata": {},
   "source": [
    "Our accuracy is 100%"
   ]
  },
  {
   "cell_type": "code",
   "execution_count": 245,
   "id": "a691076b",
   "metadata": {},
   "outputs": [
    {
     "data": {
      "text/plain": [
       "array([[109,   0],\n",
       "       [  1, 102]], dtype=int64)"
      ]
     },
     "execution_count": 245,
     "metadata": {},
     "output_type": "execute_result"
    }
   ],
   "source": [
    "cm = confusion_matrix(y_test, y_predict)\n",
    "cm"
   ]
  },
  {
   "cell_type": "code",
   "execution_count": 246,
   "id": "93a8d06a",
   "metadata": {},
   "outputs": [
    {
     "data": {
      "image/png": "[encoded data removed]",
      "text/plain": [
       "<Figure size 432x288 with 2 Axes>"
      ]
     },
     "metadata": {
      "needs_background": "light"
     },
     "output_type": "display_data"
    }
   ],
   "source": [
    "#Plot the confusion matrix.\n",
    "sb.heatmap(cm,\n",
    "            annot=True,\n",
    "            fmt='g',\n",
    "            xticklabels=['Intermediates Eligible', 'Not Eligible'],\n",
    "            yticklabels=['Intermediates Eligible', 'Not Eligible'])\n",
    "plt.ylabel('Prediction',fontsize=13)\n",
    "plt.xlabel('Actual',fontsize=13)\n",
    "plt.title('Confusion Matrix',fontsize=17)\n",
    "plt.show()"
   ]
  },
  {
   "cell_type": "code",
   "execution_count": 247,
   "id": "7fcda6dd",
   "metadata": {},
   "outputs": [
    {
     "name": "stdout",
     "output_type": "stream",
     "text": [
      "Accuracy is 100.0 %\n"
     ]
    }
   ],
   "source": [
    "#Accuracy = (TP+TN)/(TP+TN+FP+FN)\n",
    "Accuracy = (109+103)/(109+103+0+0)\n",
    "print('Accuracy is', Accuracy*100,'%')"
   ]
  },
  {
   "cell_type": "markdown",
   "id": "dde72dc8",
   "metadata": {},
   "source": [
    "Our model is 100% perfect and ready for deployment"
   ]
  },
  {
   "cell_type": "markdown",
   "id": "b967ee72",
   "metadata": {},
   "source": [
    "#### Saving the Trained Model"
   ]
  },
  {
   "cell_type": "code",
   "execution_count": 248,
   "id": "f5977222",
   "metadata": {},
   "outputs": [],
   "source": [
    "import pickle"
   ]
  },
  {
   "cell_type": "code",
   "execution_count": 249,
   "id": "44746244",
   "metadata": {},
   "outputs": [],
   "source": [
    "filename = 'trained_model.sav'\n",
    "pickle.dump(model_1, open(filename, 'wb'))"
   ]
  },
  {
   "cell_type": "code",
   "execution_count": 250,
   "id": "2d8bbf18",
   "metadata": {},
   "outputs": [],
   "source": [
    "# loading the saved model\n",
    "loaded_model = pickle.load(open('trained_model.sav', 'rb'))"
   ]
  },
  {
   "cell_type": "code",
   "execution_count": null,
   "id": "e3897880",
   "metadata": {},
   "outputs": [],
   "source": []
  },
  {
   "cell_type": "code",
   "execution_count": 300,
   "id": "10469cab",
   "metadata": {},
   "outputs": [
    {
     "name": "stdout",
     "output_type": "stream",
     "text": [
      "[1]\n",
      "Student eligible for intermediate\n"
     ]
    },
    {
     "name": "stderr",
     "output_type": "stream",
     "text": [
      "C:\\Users\\LAWRENCE\\AppData\\Local\\Programs\\Python\\Python39\\lib\\site-packages\\sklearn\\base.py:409: UserWarning: X does not have valid feature names, but LogisticRegression was fitted with feature names\n",
      "  warnings.warn(\n"
     ]
    }
   ],
   "source": [
    "input_values = (1, 58, 90)\n",
    "\n",
    "input_value_as_array = np.asarray(input_values)\n",
    "input_data_reshape=input_value_as_array.reshape(1,-1)\n",
    "\n",
    "predict_value=loaded_model.predict(input_data_reshape)\n",
    "print(predict_value)\n",
    "if predict_value[0]==0:\n",
    "    print('Student not eligible')\n",
    "else:\n",
    "    print('Student eligible for intermediate')"
   ]
  },
  {
   "cell_type": "code",
   "execution_count": 301,
   "id": "ba36ab18",
   "metadata": {},
   "outputs": [
    {
     "data": {
      "text/plain": [
       "array([0], dtype=int64)"
      ]
     },
     "execution_count": 301,
     "metadata": {},
     "output_type": "execute_result"
    }
   ],
   "source": [
    "model_1.predict(X_test[1:2]) #X_test[1:2]"
   ]
  },
  {
   "cell_type": "code",
   "execution_count": 302,
   "id": "6ef26073",
   "metadata": {},
   "outputs": [
    {
     "data": {
      "text/plain": [
       "array([[1, 0, 1, 0, 1, 0, 0, 1, 1, 1, 0, 1, 0, 1, 0, 0, 0, 0, 1, 0, 0, 1,\n",
       "        1, 1, 1, 0, 0, 0, 1, 0, 1, 0, 0, 1, 1, 1, 1, 0, 1, 1, 0, 0, 1, 1,\n",
       "        0, 0, 0, 0, 0, 0, 0, 0, 1, 1, 0, 1, 1, 0, 0, 0, 1, 0, 0, 1, 0, 0,\n",
       "        1, 0, 1, 1, 0, 0, 0, 1, 1, 1, 1, 0, 0, 0, 1, 1, 1, 1, 1, 1, 0, 1,\n",
       "        1, 0, 1, 1, 1, 1, 1, 0, 0, 0, 1, 0]], dtype=int64)"
      ]
     },
     "execution_count": 302,
     "metadata": {},
     "output_type": "execute_result"
    }
   ],
   "source": [
    "np.asarray(y_test[:100]).reshape(1,-1)"
   ]
  },
  {
   "cell_type": "code",
   "execution_count": 303,
   "id": "f764f7e6",
   "metadata": {},
   "outputs": [
    {
     "data": {
      "text/plain": [
       "array([[ 1, 58, 90]])"
      ]
     },
     "execution_count": 303,
     "metadata": {},
     "output_type": "execute_result"
    }
   ],
   "source": [
    "input_data_reshape"
   ]
  },
  {
   "cell_type": "code",
   "execution_count": 304,
   "id": "c1de8de0",
   "metadata": {},
   "outputs": [],
   "source": [
    " # Standardizing the numerical columns\n",
    "#input_data_reshape = scaler.fit_transform(input_data_reshape)\n",
    "input_data_reshape = scaler.transform(input_data_reshape)"
   ]
  },
  {
   "cell_type": "code",
   "execution_count": 305,
   "id": "6e91de05",
   "metadata": {},
   "outputs": [
    {
     "data": {
      "text/plain": [
       "array([[0., 0., 0.]])"
      ]
     },
     "execution_count": 305,
     "metadata": {},
     "output_type": "execute_result"
    }
   ],
   "source": [
    "input_data_reshape"
   ]
  },
  {
   "cell_type": "code",
   "execution_count": 284,
   "id": "d877fc79",
   "metadata": {},
   "outputs": [
    {
     "data": {
      "text/html": [
       "<div>\n",
       "<style scoped>\n",
       "    .dataframe tbody tr th:only-of-type {\n",
       "        vertical-align: middle;\n",
       "    }\n",
       "\n",
       "    .dataframe tbody tr th {\n",
       "        vertical-align: top;\n",
       "    }\n",
       "\n",
       "    .dataframe thead th {\n",
       "        text-align: right;\n",
       "    }\n",
       "</style>\n",
       "<table border=\"1\" class=\"dataframe\">\n",
       "  <thead>\n",
       "    <tr style=\"text-align: right;\">\n",
       "      <th></th>\n",
       "      <th>Lesson_Summary</th>\n",
       "      <th>Assignment_Summary</th>\n",
       "      <th>Grade_Point_Average</th>\n",
       "    </tr>\n",
       "  </thead>\n",
       "  <tbody>\n",
       "    <tr>\n",
       "      <th>663</th>\n",
       "      <td>1.043712</td>\n",
       "      <td>0.724298</td>\n",
       "      <td>-1.163339</td>\n",
       "    </tr>\n",
       "  </tbody>\n",
       "</table>\n",
       "</div>"
      ],
      "text/plain": [
       "     Lesson_Summary  Assignment_Summary  Grade_Point_Average\n",
       "663        1.043712            0.724298            -1.163339"
      ]
     },
     "execution_count": 284,
     "metadata": {},
     "output_type": "execute_result"
    }
   ],
   "source": [
    "X_test[1:2]"
   ]
  },
  {
   "cell_type": "code",
   "execution_count": null,
   "id": "96f648e2",
   "metadata": {},
   "outputs": [],
   "source": []
  }
 ],
 "metadata": {
  "kernelspec": {
   "display_name": "Python 3 (ipykernel)",
   "language": "python",
   "name": "python3"
  },
  "language_info": {
   "codemirror_mode": {
    "name": "ipython",
    "version": 3
   },
   "file_extension": ".py",
   "mimetype": "text/x-python",
   "name": "python",
   "nbconvert_exporter": "python",
   "pygments_lexer": "ipython3",
   "version": "3.9.1"
  }
 },
 "nbformat": 4,
 "nbformat_minor": 5
}
