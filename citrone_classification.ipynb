{
 "cells": [
  {
   "cell_type": "code",
   "execution_count": 1,
   "id": "ce9b2233",
   "metadata": {},
   "outputs": [],
   "source": [
    "import pandas as pd\n",
    "import numpy as np \n",
    "import seaborn as sb\n",
    "import matplotlib.pyplot as plt\n",
    "from sklearn.preprocessing import OneHotEncoder\n",
    "from sklearn.preprocessing import StandardScaler"
   ]
  },
  {
   "cell_type": "code",
   "execution_count": 88,
   "id": "671184d7",
   "metadata": {},
   "outputs": [
    {
     "data": {
      "text/html": [
       "<div>\n",
       "<style scoped>\n",
       "    .dataframe tbody tr th:only-of-type {\n",
       "        vertical-align: middle;\n",
       "    }\n",
       "\n",
       "    .dataframe tbody tr th {\n",
       "        vertical-align: top;\n",
       "    }\n",
       "\n",
       "    .dataframe thead th {\n",
       "        text-align: right;\n",
       "    }\n",
       "</style>\n",
       "<table border=\"1\" class=\"dataframe\">\n",
       "  <thead>\n",
       "    <tr style=\"text-align: right;\">\n",
       "      <th></th>\n",
       "      <th>S/N</th>\n",
       "      <th>Name</th>\n",
       "      <th>Lesson Summary</th>\n",
       "      <th>Quiz Summary</th>\n",
       "      <th>Assignment Summary</th>\n",
       "      <th>Grade Point Average</th>\n",
       "      <th>Intermediate class Eligibility</th>\n",
       "    </tr>\n",
       "  </thead>\n",
       "  <tbody>\n",
       "    <tr>\n",
       "      <th>0</th>\n",
       "      <td>1</td>\n",
       "      <td>id_1</td>\n",
       "      <td>0/5</td>\n",
       "      <td>NaN</td>\n",
       "      <td>0</td>\n",
       "      <td>0.0</td>\n",
       "      <td>No</td>\n",
       "    </tr>\n",
       "    <tr>\n",
       "      <th>1</th>\n",
       "      <td>2</td>\n",
       "      <td>id_2</td>\n",
       "      <td>5-May</td>\n",
       "      <td>NaN</td>\n",
       "      <td>70</td>\n",
       "      <td>56.0</td>\n",
       "      <td>Yes</td>\n",
       "    </tr>\n",
       "    <tr>\n",
       "      <th>2</th>\n",
       "      <td>3</td>\n",
       "      <td>id_3</td>\n",
       "      <td>5-Feb</td>\n",
       "      <td>NaN</td>\n",
       "      <td>80</td>\n",
       "      <td>64.0</td>\n",
       "      <td>Yes</td>\n",
       "    </tr>\n",
       "    <tr>\n",
       "      <th>3</th>\n",
       "      <td>4</td>\n",
       "      <td>id_4</td>\n",
       "      <td>5-May</td>\n",
       "      <td>NaN</td>\n",
       "      <td>100</td>\n",
       "      <td>80.0</td>\n",
       "      <td>Yes</td>\n",
       "    </tr>\n",
       "    <tr>\n",
       "      <th>4</th>\n",
       "      <td>5</td>\n",
       "      <td>id_5</td>\n",
       "      <td>5-Jun</td>\n",
       "      <td>NaN</td>\n",
       "      <td>80</td>\n",
       "      <td>64.0</td>\n",
       "      <td>Yes</td>\n",
       "    </tr>\n",
       "  </tbody>\n",
       "</table>\n",
       "</div>"
      ],
      "text/plain": [
       "   S/N  Name Lesson Summary  Quiz Summary  Assignment Summary  \\\n",
       "0    1  id_1            0/5           NaN                   0   \n",
       "1    2  id_2          5-May           NaN                  70   \n",
       "2    3  id_3          5-Feb           NaN                  80   \n",
       "3    4  id_4          5-May           NaN                 100   \n",
       "4    5  id_5          5-Jun           NaN                  80   \n",
       "\n",
       "   Grade Point Average Intermediate class Eligibility  \n",
       "0                  0.0                             No  \n",
       "1                 56.0                            Yes  \n",
       "2                 64.0                            Yes  \n",
       "3                 80.0                            Yes  \n",
       "4                 64.0                            Yes  "
      ]
     },
     "execution_count": 88,
     "metadata": {},
     "output_type": "execute_result"
    }
   ],
   "source": [
    "#load the orginal data set\n",
    "original_df = pd.read_csv(\"Citrone_Performance_overview_id.csv\")\n",
    "original_df.head()"
   ]
  },
  {
   "cell_type": "code",
   "execution_count": 89,
   "id": "4a7fd93a",
   "metadata": {},
   "outputs": [],
   "source": [
    "original_df['Intermediate class Eligibility'] = original_df['Intermediate class Eligibility'].map({'Yes': 1, 'No': 0})"
   ]
  },
  {
   "cell_type": "code",
   "execution_count": 122,
   "id": "a345eddc",
   "metadata": {},
   "outputs": [
    {
     "data": {
      "text/html": [
       "<div>\n",
       "<style scoped>\n",
       "    .dataframe tbody tr th:only-of-type {\n",
       "        vertical-align: middle;\n",
       "    }\n",
       "\n",
       "    .dataframe tbody tr th {\n",
       "        vertical-align: top;\n",
       "    }\n",
       "\n",
       "    .dataframe thead th {\n",
       "        text-align: right;\n",
       "    }\n",
       "</style>\n",
       "<table border=\"1\" class=\"dataframe\">\n",
       "  <thead>\n",
       "    <tr style=\"text-align: right;\">\n",
       "      <th></th>\n",
       "      <th>S/N</th>\n",
       "      <th>Quiz Summary</th>\n",
       "      <th>Assignment Summary</th>\n",
       "      <th>Grade Point Average</th>\n",
       "      <th>Intermediate class Eligibility</th>\n",
       "    </tr>\n",
       "  </thead>\n",
       "  <tbody>\n",
       "    <tr>\n",
       "      <th>S/N</th>\n",
       "      <td>1.000000</td>\n",
       "      <td>NaN</td>\n",
       "      <td>-0.483111</td>\n",
       "      <td>-0.483111</td>\n",
       "      <td>-0.512423</td>\n",
       "    </tr>\n",
       "    <tr>\n",
       "      <th>Quiz Summary</th>\n",
       "      <td>NaN</td>\n",
       "      <td>NaN</td>\n",
       "      <td>NaN</td>\n",
       "      <td>NaN</td>\n",
       "      <td>NaN</td>\n",
       "    </tr>\n",
       "    <tr>\n",
       "      <th>Assignment Summary</th>\n",
       "      <td>-0.483111</td>\n",
       "      <td>NaN</td>\n",
       "      <td>1.000000</td>\n",
       "      <td>1.000000</td>\n",
       "      <td>0.984561</td>\n",
       "    </tr>\n",
       "    <tr>\n",
       "      <th>Grade Point Average</th>\n",
       "      <td>-0.483111</td>\n",
       "      <td>NaN</td>\n",
       "      <td>1.000000</td>\n",
       "      <td>1.000000</td>\n",
       "      <td>0.984561</td>\n",
       "    </tr>\n",
       "    <tr>\n",
       "      <th>Intermediate class Eligibility</th>\n",
       "      <td>-0.512423</td>\n",
       "      <td>NaN</td>\n",
       "      <td>0.984561</td>\n",
       "      <td>0.984561</td>\n",
       "      <td>1.000000</td>\n",
       "    </tr>\n",
       "  </tbody>\n",
       "</table>\n",
       "</div>"
      ],
      "text/plain": [
       "                                     S/N  Quiz Summary  Assignment Summary  \\\n",
       "S/N                             1.000000           NaN           -0.483111   \n",
       "Quiz Summary                         NaN           NaN                 NaN   \n",
       "Assignment Summary             -0.483111           NaN            1.000000   \n",
       "Grade Point Average            -0.483111           NaN            1.000000   \n",
       "Intermediate class Eligibility -0.512423           NaN            0.984561   \n",
       "\n",
       "                                Grade Point Average  \\\n",
       "S/N                                       -0.483111   \n",
       "Quiz Summary                                    NaN   \n",
       "Assignment Summary                         1.000000   \n",
       "Grade Point Average                        1.000000   \n",
       "Intermediate class Eligibility             0.984561   \n",
       "\n",
       "                                Intermediate class Eligibility  \n",
       "S/N                                                  -0.512423  \n",
       "Quiz Summary                                               NaN  \n",
       "Assignment Summary                                    0.984561  \n",
       "Grade Point Average                                   0.984561  \n",
       "Intermediate class Eligibility                        1.000000  "
      ]
     },
     "execution_count": 122,
     "metadata": {},
     "output_type": "execute_result"
    }
   ],
   "source": [
    "# correlation heatmap of the data set\n",
    "original_df.corr()"
   ]
  },
  {
   "cell_type": "raw",
   "id": "bf653378",
   "metadata": {},
   "source": [
    "There is a very strong positive correlation between Intermediate_class_Eligibility, Grade_Point_Average & Assignment_Summary"
   ]
  },
  {
   "cell_type": "code",
   "execution_count": 123,
   "id": "2afb461a",
   "metadata": {},
   "outputs": [],
   "source": [
    "# Load a mock data set with 1060 rows\n",
    "df = pd.read_csv(\"CITRONE_MOCK_DATA.csv\")"
   ]
  },
  {
   "cell_type": "code",
   "execution_count": 124,
   "id": "ef6cf444",
   "metadata": {},
   "outputs": [
    {
     "data": {
      "text/html": [
       "<div>\n",
       "<style scoped>\n",
       "    .dataframe tbody tr th:only-of-type {\n",
       "        vertical-align: middle;\n",
       "    }\n",
       "\n",
       "    .dataframe tbody tr th {\n",
       "        vertical-align: top;\n",
       "    }\n",
       "\n",
       "    .dataframe thead th {\n",
       "        text-align: right;\n",
       "    }\n",
       "</style>\n",
       "<table border=\"1\" class=\"dataframe\">\n",
       "  <thead>\n",
       "    <tr style=\"text-align: right;\">\n",
       "      <th></th>\n",
       "      <th>Lesson Summary</th>\n",
       "      <th>Quiz Summary</th>\n",
       "      <th>Assignment Summary</th>\n",
       "      <th>Grade Point Average</th>\n",
       "      <th>Intermediate class Eligibility</th>\n",
       "    </tr>\n",
       "  </thead>\n",
       "  <tbody>\n",
       "    <tr>\n",
       "      <th>0</th>\n",
       "      <td>5-May</td>\n",
       "      <td>False</td>\n",
       "      <td>24</td>\n",
       "      <td>73.1</td>\n",
       "      <td>TRUE</td>\n",
       "    </tr>\n",
       "    <tr>\n",
       "      <th>1</th>\n",
       "      <td>5-Jul</td>\n",
       "      <td>False</td>\n",
       "      <td>65</td>\n",
       "      <td>78.5</td>\n",
       "      <td>FALSE</td>\n",
       "    </tr>\n",
       "    <tr>\n",
       "      <th>2</th>\n",
       "      <td>5-May</td>\n",
       "      <td>False</td>\n",
       "      <td>71</td>\n",
       "      <td>32.7</td>\n",
       "      <td>FALSE</td>\n",
       "    </tr>\n",
       "    <tr>\n",
       "      <th>3</th>\n",
       "      <td>5-Mar</td>\n",
       "      <td>True</td>\n",
       "      <td>7</td>\n",
       "      <td>52.2</td>\n",
       "      <td>FALSE</td>\n",
       "    </tr>\n",
       "    <tr>\n",
       "      <th>4</th>\n",
       "      <td>5-Apr</td>\n",
       "      <td>False</td>\n",
       "      <td>51</td>\n",
       "      <td>38.5</td>\n",
       "      <td>FALSE</td>\n",
       "    </tr>\n",
       "  </tbody>\n",
       "</table>\n",
       "</div>"
      ],
      "text/plain": [
       "  Lesson Summary Quiz Summary  Assignment Summary  Grade Point Average  \\\n",
       "0          5-May        False                  24                 73.1   \n",
       "1          5-Jul        False                  65                 78.5   \n",
       "2          5-May        False                  71                 32.7   \n",
       "3          5-Mar         True                   7                 52.2   \n",
       "4          5-Apr        False                  51                 38.5   \n",
       "\n",
       "  Intermediate class Eligibility  \n",
       "0                           TRUE  \n",
       "1                          FALSE  \n",
       "2                          FALSE  \n",
       "3                          FALSE  \n",
       "4                          FALSE  "
      ]
     },
     "execution_count": 124,
     "metadata": {},
     "output_type": "execute_result"
    }
   ],
   "source": [
    "df.head()"
   ]
  },
  {
   "cell_type": "code",
   "execution_count": 125,
   "id": "4bf1499c",
   "metadata": {},
   "outputs": [
    {
     "data": {
      "text/plain": [
       "Index(['Lesson_Summary', 'Quiz_Summary', 'Assignment_Summary',\n",
       "       'Grade_Point_Average', 'Intermediate_class_Eligibility'],\n",
       "      dtype='object')"
      ]
     },
     "execution_count": 125,
     "metadata": {},
     "output_type": "execute_result"
    }
   ],
   "source": [
    "#modify the columns\n",
    "df.columns = df.columns.str.replace(\" \", \"_\")\n",
    "df.columns"
   ]
  },
  {
   "cell_type": "code",
   "execution_count": 126,
   "id": "ef2f70b5",
   "metadata": {},
   "outputs": [
    {
     "data": {
      "text/html": [
       "<div>\n",
       "<style scoped>\n",
       "    .dataframe tbody tr th:only-of-type {\n",
       "        vertical-align: middle;\n",
       "    }\n",
       "\n",
       "    .dataframe tbody tr th {\n",
       "        vertical-align: top;\n",
       "    }\n",
       "\n",
       "    .dataframe thead th {\n",
       "        text-align: right;\n",
       "    }\n",
       "</style>\n",
       "<table border=\"1\" class=\"dataframe\">\n",
       "  <thead>\n",
       "    <tr style=\"text-align: right;\">\n",
       "      <th></th>\n",
       "      <th>Assignment_Summary</th>\n",
       "      <th>Grade_Point_Average</th>\n",
       "      <th>Intermediate_class_Eligibility</th>\n",
       "    </tr>\n",
       "  </thead>\n",
       "  <tbody>\n",
       "    <tr>\n",
       "      <th>0</th>\n",
       "      <td>24</td>\n",
       "      <td>73.1</td>\n",
       "      <td>TRUE</td>\n",
       "    </tr>\n",
       "    <tr>\n",
       "      <th>1</th>\n",
       "      <td>65</td>\n",
       "      <td>78.5</td>\n",
       "      <td>FALSE</td>\n",
       "    </tr>\n",
       "    <tr>\n",
       "      <th>2</th>\n",
       "      <td>71</td>\n",
       "      <td>32.7</td>\n",
       "      <td>FALSE</td>\n",
       "    </tr>\n",
       "    <tr>\n",
       "      <th>3</th>\n",
       "      <td>7</td>\n",
       "      <td>52.2</td>\n",
       "      <td>FALSE</td>\n",
       "    </tr>\n",
       "    <tr>\n",
       "      <th>4</th>\n",
       "      <td>51</td>\n",
       "      <td>38.5</td>\n",
       "      <td>FALSE</td>\n",
       "    </tr>\n",
       "  </tbody>\n",
       "</table>\n",
       "</div>"
      ],
      "text/plain": [
       "   Assignment_Summary  Grade_Point_Average Intermediate_class_Eligibility\n",
       "0                  24                 73.1                           TRUE\n",
       "1                  65                 78.5                          FALSE\n",
       "2                  71                 32.7                          FALSE\n",
       "3                   7                 52.2                          FALSE\n",
       "4                  51                 38.5                          FALSE"
      ]
     },
     "execution_count": 126,
     "metadata": {},
     "output_type": "execute_result"
    }
   ],
   "source": [
    "# Remove two columns name 'Lesson_Summary', 'Quiz_Summary'\n",
    "df.drop(['Lesson_Summary', 'Quiz_Summary'], axis=1, inplace=True)\n",
    "df.head()"
   ]
  },
  {
   "cell_type": "code",
   "execution_count": 127,
   "id": "e7f2ddbe",
   "metadata": {},
   "outputs": [
    {
     "data": {
      "text/plain": [
       "FALSE    516\n",
       "TRUE     484\n",
       "Yes       42\n",
       "No        18\n",
       "Name: Intermediate_class_Eligibility, dtype: int64"
      ]
     },
     "execution_count": 127,
     "metadata": {},
     "output_type": "execute_result"
    }
   ],
   "source": [
    "df.Intermediate_class_Eligibility.value_counts()"
   ]
  },
  {
   "cell_type": "code",
   "execution_count": 128,
   "id": "82d44c91",
   "metadata": {},
   "outputs": [
    {
     "data": {
      "text/plain": [
       "Assignment_Summary                0\n",
       "Grade_Point_Average               0\n",
       "Intermediate_class_Eligibility    0\n",
       "dtype: int64"
      ]
     },
     "execution_count": 128,
     "metadata": {},
     "output_type": "execute_result"
    }
   ],
   "source": [
    "#check for null values in the data\n",
    "df.isnull().sum()"
   ]
  },
  {
   "cell_type": "markdown",
   "id": "138501cc",
   "metadata": {},
   "source": [
    "### EDA"
   ]
  },
  {
   "cell_type": "code",
   "execution_count": 129,
   "id": "1e21e08d",
   "metadata": {},
   "outputs": [],
   "source": [
    "#change (Yes/No and TRUE/FALSE) to 1/0\n",
    "df['Intermediate_class_Eligibility'] = df['Intermediate_class_Eligibility'].map({'Yes': 1, 'No': 0, 'TRUE': 1, 'FALSE': 0})"
   ]
  },
  {
   "cell_type": "code",
   "execution_count": 130,
   "id": "438fd09e",
   "metadata": {},
   "outputs": [
    {
     "data": {
      "text/html": [
       "<div>\n",
       "<style scoped>\n",
       "    .dataframe tbody tr th:only-of-type {\n",
       "        vertical-align: middle;\n",
       "    }\n",
       "\n",
       "    .dataframe tbody tr th {\n",
       "        vertical-align: top;\n",
       "    }\n",
       "\n",
       "    .dataframe thead th {\n",
       "        text-align: right;\n",
       "    }\n",
       "</style>\n",
       "<table border=\"1\" class=\"dataframe\">\n",
       "  <thead>\n",
       "    <tr style=\"text-align: right;\">\n",
       "      <th></th>\n",
       "      <th>Assignment_Summary</th>\n",
       "      <th>Grade_Point_Average</th>\n",
       "      <th>Intermediate_class_Eligibility</th>\n",
       "    </tr>\n",
       "  </thead>\n",
       "  <tbody>\n",
       "    <tr>\n",
       "      <th>0</th>\n",
       "      <td>24</td>\n",
       "      <td>73.1</td>\n",
       "      <td>1</td>\n",
       "    </tr>\n",
       "    <tr>\n",
       "      <th>1</th>\n",
       "      <td>65</td>\n",
       "      <td>78.5</td>\n",
       "      <td>0</td>\n",
       "    </tr>\n",
       "    <tr>\n",
       "      <th>2</th>\n",
       "      <td>71</td>\n",
       "      <td>32.7</td>\n",
       "      <td>0</td>\n",
       "    </tr>\n",
       "    <tr>\n",
       "      <th>3</th>\n",
       "      <td>7</td>\n",
       "      <td>52.2</td>\n",
       "      <td>0</td>\n",
       "    </tr>\n",
       "    <tr>\n",
       "      <th>4</th>\n",
       "      <td>51</td>\n",
       "      <td>38.5</td>\n",
       "      <td>0</td>\n",
       "    </tr>\n",
       "  </tbody>\n",
       "</table>\n",
       "</div>"
      ],
      "text/plain": [
       "   Assignment_Summary  Grade_Point_Average  Intermediate_class_Eligibility\n",
       "0                  24                 73.1                               1\n",
       "1                  65                 78.5                               0\n",
       "2                  71                 32.7                               0\n",
       "3                   7                 52.2                               0\n",
       "4                  51                 38.5                               0"
      ]
     },
     "execution_count": 130,
     "metadata": {},
     "output_type": "execute_result"
    }
   ],
   "source": [
    "df.head()"
   ]
  },
  {
   "cell_type": "code",
   "execution_count": 131,
   "id": "9869c5b2",
   "metadata": {},
   "outputs": [
    {
     "data": {
      "text/html": [
       "<div>\n",
       "<style scoped>\n",
       "    .dataframe tbody tr th:only-of-type {\n",
       "        vertical-align: middle;\n",
       "    }\n",
       "\n",
       "    .dataframe tbody tr th {\n",
       "        vertical-align: top;\n",
       "    }\n",
       "\n",
       "    .dataframe thead th {\n",
       "        text-align: right;\n",
       "    }\n",
       "</style>\n",
       "<table border=\"1\" class=\"dataframe\">\n",
       "  <thead>\n",
       "    <tr style=\"text-align: right;\">\n",
       "      <th></th>\n",
       "      <th>Assignment_Summary</th>\n",
       "      <th>Grade_Point_Average</th>\n",
       "      <th>Intermediate_class_Eligibility</th>\n",
       "    </tr>\n",
       "  </thead>\n",
       "  <tbody>\n",
       "    <tr>\n",
       "      <th>Assignment_Summary</th>\n",
       "      <td>1.000000</td>\n",
       "      <td>0.115859</td>\n",
       "      <td>0.033397</td>\n",
       "    </tr>\n",
       "    <tr>\n",
       "      <th>Grade_Point_Average</th>\n",
       "      <td>0.115859</td>\n",
       "      <td>1.000000</td>\n",
       "      <td>0.122992</td>\n",
       "    </tr>\n",
       "    <tr>\n",
       "      <th>Intermediate_class_Eligibility</th>\n",
       "      <td>0.033397</td>\n",
       "      <td>0.122992</td>\n",
       "      <td>1.000000</td>\n",
       "    </tr>\n",
       "  </tbody>\n",
       "</table>\n",
       "</div>"
      ],
      "text/plain": [
       "                                Assignment_Summary  Grade_Point_Average  \\\n",
       "Assignment_Summary                        1.000000             0.115859   \n",
       "Grade_Point_Average                       0.115859             1.000000   \n",
       "Intermediate_class_Eligibility            0.033397             0.122992   \n",
       "\n",
       "                                Intermediate_class_Eligibility  \n",
       "Assignment_Summary                                    0.033397  \n",
       "Grade_Point_Average                                   0.122992  \n",
       "Intermediate_class_Eligibility                        1.000000  "
      ]
     },
     "execution_count": 131,
     "metadata": {},
     "output_type": "execute_result"
    }
   ],
   "source": [
    "df.corr()"
   ]
  },
  {
   "cell_type": "markdown",
   "id": "7503dc30",
   "metadata": {},
   "source": [
    "There is a very weak correlation between Intermediate_class_Eligibility and Grade_Point_Average & Assignment_Summary"
   ]
  },
  {
   "cell_type": "code",
   "execution_count": 132,
   "id": "33174d0a",
   "metadata": {},
   "outputs": [],
   "source": [
    "#Now, we define a function to adjust the mock data to mimick the original data \n",
    "#And ensure no biaseness between eligibilty status and grade point\n",
    "\n",
    "def adjust_grade(col):\n",
    "    if col >= 50:\n",
    "        return 1\n",
    "    else:\n",
    "        return 0"
   ]
  },
  {
   "cell_type": "code",
   "execution_count": 133,
   "id": "d1e2ee0e",
   "metadata": {},
   "outputs": [],
   "source": [
    "# Adjusting Intermediate_class_Eligibility to conform with Grade_Point_Average\n",
    "df['Intermediate_class_Eligibility'] = df['Grade_Point_Average'].apply(adjust_grade)"
   ]
  },
  {
   "cell_type": "code",
   "execution_count": 134,
   "id": "1bbe7355",
   "metadata": {},
   "outputs": [
    {
     "data": {
      "text/html": [
       "<div>\n",
       "<style scoped>\n",
       "    .dataframe tbody tr th:only-of-type {\n",
       "        vertical-align: middle;\n",
       "    }\n",
       "\n",
       "    .dataframe tbody tr th {\n",
       "        vertical-align: top;\n",
       "    }\n",
       "\n",
       "    .dataframe thead th {\n",
       "        text-align: right;\n",
       "    }\n",
       "</style>\n",
       "<table border=\"1\" class=\"dataframe\">\n",
       "  <thead>\n",
       "    <tr style=\"text-align: right;\">\n",
       "      <th></th>\n",
       "      <th>Assignment_Summary</th>\n",
       "      <th>Grade_Point_Average</th>\n",
       "      <th>Intermediate_class_Eligibility</th>\n",
       "    </tr>\n",
       "  </thead>\n",
       "  <tbody>\n",
       "    <tr>\n",
       "      <th>0</th>\n",
       "      <td>24</td>\n",
       "      <td>73.1</td>\n",
       "      <td>1</td>\n",
       "    </tr>\n",
       "    <tr>\n",
       "      <th>1</th>\n",
       "      <td>65</td>\n",
       "      <td>78.5</td>\n",
       "      <td>1</td>\n",
       "    </tr>\n",
       "    <tr>\n",
       "      <th>2</th>\n",
       "      <td>71</td>\n",
       "      <td>32.7</td>\n",
       "      <td>0</td>\n",
       "    </tr>\n",
       "    <tr>\n",
       "      <th>3</th>\n",
       "      <td>7</td>\n",
       "      <td>52.2</td>\n",
       "      <td>1</td>\n",
       "    </tr>\n",
       "    <tr>\n",
       "      <th>4</th>\n",
       "      <td>51</td>\n",
       "      <td>38.5</td>\n",
       "      <td>0</td>\n",
       "    </tr>\n",
       "  </tbody>\n",
       "</table>\n",
       "</div>"
      ],
      "text/plain": [
       "   Assignment_Summary  Grade_Point_Average  Intermediate_class_Eligibility\n",
       "0                  24                 73.1                               1\n",
       "1                  65                 78.5                               1\n",
       "2                  71                 32.7                               0\n",
       "3                   7                 52.2                               1\n",
       "4                  51                 38.5                               0"
      ]
     },
     "execution_count": 134,
     "metadata": {},
     "output_type": "execute_result"
    }
   ],
   "source": [
    "df.head()"
   ]
  },
  {
   "cell_type": "code",
   "execution_count": 135,
   "id": "a69ee2dc",
   "metadata": {},
   "outputs": [
    {
     "data": {
      "text/plain": [
       "1    547\n",
       "0    513\n",
       "Name: Intermediate_class_Eligibility, dtype: int64"
      ]
     },
     "execution_count": 135,
     "metadata": {},
     "output_type": "execute_result"
    }
   ],
   "source": [
    "df.Intermediate_class_Eligibility.value_counts()"
   ]
  },
  {
   "cell_type": "code",
   "execution_count": 136,
   "id": "5d3a78eb",
   "metadata": {},
   "outputs": [
    {
     "data": {
      "text/plain": [
       "<AxesSubplot:>"
      ]
     },
     "execution_count": 136,
     "metadata": {},
     "output_type": "execute_result"
    },
    {
     "data": {
      "image/png": "[encoded data removed]",
      "text/plain": [
       "<Figure size 432x288 with 2 Axes>"
      ]
     },
     "metadata": {
      "needs_background": "light"
     },
     "output_type": "display_data"
    }
   ],
   "source": [
    "# correlation heatmap of the data set\n",
    "sb.heatmap(df.corr() , cmap = \"coolwarm\", annot=True)"
   ]
  },
  {
   "cell_type": "code",
   "execution_count": 137,
   "id": "b312bf09",
   "metadata": {},
   "outputs": [
    {
     "data": {
      "text/plain": [
       "array([[<AxesSubplot:title={'center':'Assignment_Summary'}>,\n",
       "        <AxesSubplot:title={'center':'Grade_Point_Average'}>],\n",
       "       [<AxesSubplot:title={'center':'Intermediate_class_Eligibility'}>,\n",
       "        <AxesSubplot:>]], dtype=object)"
      ]
     },
     "execution_count": 137,
     "metadata": {},
     "output_type": "execute_result"
    },
    {
     "data": {
      "image/png": "[encoded data removed]",
      "text/plain": [
       "<Figure size 720x720 with 4 Axes>"
      ]
     },
     "metadata": {
      "needs_background": "light"
     },
     "output_type": "display_data"
    }
   ],
   "source": [
    "# Checking for skewness in the data\n",
    "df.hist(figsize=(10,10))"
   ]
  },
  {
   "cell_type": "code",
   "execution_count": 138,
   "id": "3e8837ae",
   "metadata": {},
   "outputs": [],
   "source": [
    "numerical_cols = list(df.select_dtypes('number').columns)"
   ]
  },
  {
   "cell_type": "markdown",
   "id": "bba65c97",
   "metadata": {},
   "source": [
    "#### Remove target variable from the DataFrame"
   ]
  },
  {
   "cell_type": "code",
   "execution_count": 139,
   "id": "1eadfc5e",
   "metadata": {},
   "outputs": [],
   "source": [
    "eligibility_label = df[\"Intermediate_class_Eligibility\"]\n",
    "raw_df = df.copy()\n",
    "df.drop(\"Intermediate_class_Eligibility\" , axis = 1 , inplace = True)"
   ]
  },
  {
   "cell_type": "code",
   "execution_count": 140,
   "id": "cf691210",
   "metadata": {},
   "outputs": [],
   "source": [
    "numerical_cols.remove('Intermediate_class_Eligibility')"
   ]
  },
  {
   "cell_type": "markdown",
   "id": "9d0eb4a1",
   "metadata": {},
   "source": [
    "### Data Preprocessing"
   ]
  },
  {
   "cell_type": "code",
   "execution_count": 141,
   "id": "37428241",
   "metadata": {},
   "outputs": [],
   "source": [
    "from sklearn.preprocessing import StandardScaler\n",
    "scaler = StandardScaler()"
   ]
  },
  {
   "cell_type": "code",
   "execution_count": 142,
   "id": "10eb1832",
   "metadata": {},
   "outputs": [],
   "source": [
    " # Standardizing the numerical columns\n",
    "df[numerical_cols] = scaler.fit_transform(df[numerical_cols])"
   ]
  },
  {
   "cell_type": "code",
   "execution_count": 143,
   "id": "84092bf9",
   "metadata": {},
   "outputs": [
    {
     "data": {
      "text/html": [
       "<div>\n",
       "<style scoped>\n",
       "    .dataframe tbody tr th:only-of-type {\n",
       "        vertical-align: middle;\n",
       "    }\n",
       "\n",
       "    .dataframe tbody tr th {\n",
       "        vertical-align: top;\n",
       "    }\n",
       "\n",
       "    .dataframe thead th {\n",
       "        text-align: right;\n",
       "    }\n",
       "</style>\n",
       "<table border=\"1\" class=\"dataframe\">\n",
       "  <thead>\n",
       "    <tr style=\"text-align: right;\">\n",
       "      <th></th>\n",
       "      <th>Assignment_Summary</th>\n",
       "      <th>Grade_Point_Average</th>\n",
       "    </tr>\n",
       "  </thead>\n",
       "  <tbody>\n",
       "    <tr>\n",
       "      <th>0</th>\n",
       "      <td>-0.895719</td>\n",
       "      <td>0.749950</td>\n",
       "    </tr>\n",
       "    <tr>\n",
       "      <th>1</th>\n",
       "      <td>0.459805</td>\n",
       "      <td>0.937120</td>\n",
       "    </tr>\n",
       "    <tr>\n",
       "      <th>2</th>\n",
       "      <td>0.658174</td>\n",
       "      <td>-0.650355</td>\n",
       "    </tr>\n",
       "    <tr>\n",
       "      <th>3</th>\n",
       "      <td>-1.457765</td>\n",
       "      <td>0.025535</td>\n",
       "    </tr>\n",
       "    <tr>\n",
       "      <th>4</th>\n",
       "      <td>-0.003057</td>\n",
       "      <td>-0.449321</td>\n",
       "    </tr>\n",
       "  </tbody>\n",
       "</table>\n",
       "</div>"
      ],
      "text/plain": [
       "   Assignment_Summary  Grade_Point_Average\n",
       "0           -0.895719             0.749950\n",
       "1            0.459805             0.937120\n",
       "2            0.658174            -0.650355\n",
       "3           -1.457765             0.025535\n",
       "4           -0.003057            -0.449321"
      ]
     },
     "execution_count": 143,
     "metadata": {},
     "output_type": "execute_result"
    }
   ],
   "source": [
    "df.head()"
   ]
  },
  {
   "cell_type": "markdown",
   "id": "4bd35549",
   "metadata": {},
   "source": [
    "### Spliting Data into Training and Testing"
   ]
  },
  {
   "cell_type": "code",
   "execution_count": 144,
   "id": "5484ebbf",
   "metadata": {},
   "outputs": [],
   "source": [
    "from sklearn.model_selection import train_test_split, StratifiedShuffleSplit"
   ]
  },
  {
   "cell_type": "code",
   "execution_count": 145,
   "id": "dc005416",
   "metadata": {},
   "outputs": [],
   "source": [
    "X_train, X_test, y_train, y_test = train_test_split(df, eligibility_label, test_size=.2, random_state=True)"
   ]
  },
  {
   "cell_type": "code",
   "execution_count": 146,
   "id": "7ecb3303",
   "metadata": {},
   "outputs": [
    {
     "data": {
      "text/plain": [
       "(212, 2)"
      ]
     },
     "execution_count": 146,
     "metadata": {},
     "output_type": "execute_result"
    }
   ],
   "source": [
    "X_test.shape"
   ]
  },
  {
   "cell_type": "markdown",
   "id": "b30cb0cc",
   "metadata": {},
   "source": [
    "### Model training on the data set"
   ]
  },
  {
   "cell_type": "code",
   "execution_count": 147,
   "id": "32a84372",
   "metadata": {},
   "outputs": [],
   "source": [
    "from sklearn.linear_model import LogisticRegression\n",
    "from sklearn.tree import DecisionTreeClassifier\n",
    "from sklearn.ensemble import RandomForestClassifier\n",
    "from sklearn.svm import SVC\n",
    "from sklearn.metrics import f1_score\n",
    "from sklearn.metrics import fbeta_score\n",
    "from sklearn.metrics import accuracy_score\n",
    "from sklearn.metrics import precision_score"
   ]
  },
  {
   "cell_type": "code",
   "execution_count": 148,
   "id": "58deb092",
   "metadata": {},
   "outputs": [],
   "source": [
    "# creating an instance of each models\n",
    "model_1 = LogisticRegression()\n",
    "#model_1.fit(X_train, y_train)\n",
    "model_2 = DecisionTreeClassifier()\n",
    "model_3 = RandomForestClassifier()"
   ]
  },
  {
   "cell_type": "code",
   "execution_count": 149,
   "id": "675358d0",
   "metadata": {},
   "outputs": [],
   "source": [
    "# Model evaluation function\n",
    "def eval(Model):\n",
    "    Model = Model.fit(X_train , y_train)\n",
    "    Model_predict_train = Model.predict(X_train)\n",
    "    Model_predict_test = Model.predict(X_test)\n",
    "    \n",
    "    accuracy_score_train = accuracy_score(Model_predict_train , y_train)\n",
    "    accuracy_score_test = accuracy_score(Model_predict_test , y_test)\n",
    "    \n",
    "    print (f\"The model has an accuracy score of {accuracy_score_train} on training and {accuracy_score_test} on testing.\")"
   ]
  },
  {
   "cell_type": "code",
   "execution_count": 150,
   "id": "454d069a",
   "metadata": {},
   "outputs": [
    {
     "name": "stdout",
     "output_type": "stream",
     "text": [
      "The model has an accuracy score of 0.9964622641509434 on training and 1.0 on testing.\n"
     ]
    }
   ],
   "source": [
    "eval(model_1)"
   ]
  },
  {
   "cell_type": "code",
   "execution_count": 151,
   "id": "e406bda7",
   "metadata": {},
   "outputs": [
    {
     "name": "stdout",
     "output_type": "stream",
     "text": [
      "The model has an accuracy score of 1.0 on training and 1.0 on testing.\n"
     ]
    }
   ],
   "source": [
    "eval(model_2)"
   ]
  },
  {
   "cell_type": "code",
   "execution_count": 152,
   "id": "913b363f",
   "metadata": {},
   "outputs": [
    {
     "name": "stdout",
     "output_type": "stream",
     "text": [
      "The model has an accuracy score of 1.0 on training and 1.0 on testing.\n"
     ]
    }
   ],
   "source": [
    "eval(model_3)"
   ]
  },
  {
   "cell_type": "markdown",
   "id": "fd689956",
   "metadata": {},
   "source": [
    "The models are all doing well. However, valuation still needs to be done."
   ]
  },
  {
   "cell_type": "code",
   "execution_count": 153,
   "id": "f3de6bc6",
   "metadata": {},
   "outputs": [],
   "source": [
    "from sklearn.model_selection import cross_val_score\n",
    "from sklearn.model_selection import cross_val_predict"
   ]
  },
  {
   "cell_type": "code",
   "execution_count": 155,
   "id": "e11ac58a",
   "metadata": {},
   "outputs": [
    {
     "data": {
      "text/plain": [
       "array([1.        , 0.98939929, 1.        ])"
      ]
     },
     "execution_count": 155,
     "metadata": {},
     "output_type": "execute_result"
    }
   ],
   "source": [
    "cross_val_score(model_1 , X_train ,y_train ,  cv = 3, scoring=\"accuracy\")"
   ]
  },
  {
   "cell_type": "code",
   "execution_count": 156,
   "id": "957ea766",
   "metadata": {},
   "outputs": [
    {
     "data": {
      "text/plain": [
       "array([1.        , 0.99646643, 1.        ])"
      ]
     },
     "execution_count": 156,
     "metadata": {},
     "output_type": "execute_result"
    }
   ],
   "source": [
    "cross_val_score(model_2 , X_train ,y_train ,  cv = 3, scoring=\"accuracy\")"
   ]
  },
  {
   "cell_type": "code",
   "execution_count": 157,
   "id": "1c90cdeb",
   "metadata": {},
   "outputs": [
    {
     "data": {
      "text/plain": [
       "array([1.        , 0.99646643, 1.        ])"
      ]
     },
     "execution_count": 157,
     "metadata": {},
     "output_type": "execute_result"
    }
   ],
   "source": [
    "cross_val_score(model_3 , X_train ,y_train ,  cv = 3, scoring=\"accuracy\")"
   ]
  },
  {
   "cell_type": "code",
   "execution_count": 158,
   "id": "05495be3",
   "metadata": {},
   "outputs": [],
   "source": [
    "from sklearn.metrics import classification_report, confusion_matrix"
   ]
  },
  {
   "cell_type": "code",
   "execution_count": 159,
   "id": "d20fdb9d",
   "metadata": {},
   "outputs": [
    {
     "name": "stdout",
     "output_type": "stream",
     "text": [
      "              precision    recall  f1-score   support\n",
      "\n",
      "           0       1.00      1.00      1.00       109\n",
      "           1       1.00      1.00      1.00       103\n",
      "\n",
      "    accuracy                           1.00       212\n",
      "   macro avg       1.00      1.00      1.00       212\n",
      "weighted avg       1.00      1.00      1.00       212\n",
      "\n"
     ]
    }
   ],
   "source": [
    "y_predict = model_1.predict(X_test)\n",
    "print(classification_report(y_test, y_predict)) #print classification report"
   ]
  },
  {
   "cell_type": "markdown",
   "id": "664d1b0e",
   "metadata": {},
   "source": [
    "Our accuracy is 100%"
   ]
  },
  {
   "cell_type": "code",
   "execution_count": 160,
   "id": "a691076b",
   "metadata": {},
   "outputs": [
    {
     "data": {
      "text/plain": [
       "array([[109,   0],\n",
       "       [  0, 103]], dtype=int64)"
      ]
     },
     "execution_count": 160,
     "metadata": {},
     "output_type": "execute_result"
    }
   ],
   "source": [
    "confusion_matrix(y_test, y_predict)"
   ]
  },
  {
   "cell_type": "code",
   "execution_count": null,
   "id": "25f4e5c8",
   "metadata": {},
   "outputs": [],
   "source": []
  }
 ],
 "metadata": {
  "kernelspec": {
   "display_name": "Python 3 (ipykernel)",
   "language": "python",
   "name": "python3"
  },
  "language_info": {
   "codemirror_mode": {
    "name": "ipython",
    "version": 3
   },
   "file_extension": ".py",
   "mimetype": "text/x-python",
   "name": "python",
   "nbconvert_exporter": "python",
   "pygments_lexer": "ipython3",
   "version": "3.9.1"
  }
 },
 "nbformat": 4,
 "nbformat_minor": 5
}
